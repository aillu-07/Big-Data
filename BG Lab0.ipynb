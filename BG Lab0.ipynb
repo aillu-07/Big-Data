{
 "cells": [
  {
   "cell_type": "code",
   "execution_count": 39,
   "metadata": {},
   "outputs": [
    {
     "name": "stdout",
     "output_type": "stream",
     "text": [
      "abdfffggdyyyytr\n",
      "abdf3g2dy4tr\n"
     ]
    }
   ],
   "source": [
    "def compress_message(msg):\n",
    "    compressed_msg = \"\"\n",
    "    count = 1\n",
    "\n",
    "    for i in range(1, len(msg)):\n",
    "        if msg[i] == msg[i - 1]:\n",
    "            count += 1\n",
    "        else:\n",
    "            if count > 1:\n",
    "                compressed_msg += msg[i - 1] + str(count)\n",
    "            else:\n",
    "                compressed_msg += msg[i - 1]\n",
    "            count = 1\n",
    "\n",
    "    # Handle the last character\n",
    "    if count > 1:\n",
    "        compressed_msg += msg[-1] + str(count)\n",
    "    else:\n",
    "        compressed_msg += msg[-1]\n",
    "\n",
    "    return compressed_msg\n",
    "\n",
    "# Input\n",
    "msg = input()\n",
    "# Compress the message\n",
    "compressed_msg = compress_message(msg)\n",
    "# Output\n",
    "print(compressed_msg)\n"
   ]
  }
 ],
 "metadata": {
  "colab": {
   "provenance": []
  },
  "kernelspec": {
   "display_name": "Python 3 (ipykernel)",
   "language": "python",
   "name": "python3"
  },
  "language_info": {
   "codemirror_mode": {
    "name": "ipython",
    "version": 3
   },
   "file_extension": ".py",
   "mimetype": "text/x-python",
   "name": "python",
   "nbconvert_exporter": "python",
   "pygments_lexer": "ipython3",
   "version": "3.9.12"
  }
 },
 "nbformat": 4,
 "nbformat_minor": 1
}
